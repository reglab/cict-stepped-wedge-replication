{
 "cells": [
  {
   "cell_type": "markdown",
   "metadata": {},
   "source": [
    "# Replicate Regression Output\n",
    "\n",
    "* **Author**: Cameron Raymond\n",
    "* **Contact**: cameron.raymond@hey.com\n",
    "* **Date**: Sept. 14, 2022\n",
    "\n",
    "Replicating Table 3 (regression results) from the paper, *Automated vs. Manual Case Investigation and Contact Tracing for Pandemic Surveillance: Evidence from a Stepped Wedge Cluster Randomized Trial*.\n",
    "\n",
    "Note: while this notebook replicates our main results with aggregate data, the original paper performed analyses at the individual level. \n"
   ]
  },
  {
   "cell_type": "code",
   "execution_count": 1,
   "metadata": {},
   "outputs": [
    {
     "name": "stderr",
     "output_type": "stream",
     "text": [
      "── \u001b[1mAttaching packages\u001b[22m ─────────────────────────────────────── tidyverse 1.3.0 ──\n",
      "\n",
      "\u001b[32m✔\u001b[39m \u001b[34mggplot2\u001b[39m 3.3.5     \u001b[32m✔\u001b[39m \u001b[34mpurrr  \u001b[39m 0.3.4\n",
      "\u001b[32m✔\u001b[39m \u001b[34mtibble \u001b[39m 3.1.8     \u001b[32m✔\u001b[39m \u001b[34mdplyr  \u001b[39m 1.0.9\n",
      "\u001b[32m✔\u001b[39m \u001b[34mtidyr  \u001b[39m 1.2.0     \u001b[32m✔\u001b[39m \u001b[34mstringr\u001b[39m 1.4.0\n",
      "\u001b[32m✔\u001b[39m \u001b[34mreadr  \u001b[39m 2.1.2     \u001b[32m✔\u001b[39m \u001b[34mforcats\u001b[39m 0.5.1\n",
      "\n",
      "── \u001b[1mConflicts\u001b[22m ────────────────────────────────────────── tidyverse_conflicts() ──\n",
      "\u001b[31m✖\u001b[39m \u001b[34mdplyr\u001b[39m::\u001b[32mfilter()\u001b[39m masks \u001b[34mstats\u001b[39m::filter()\n",
      "\u001b[31m✖\u001b[39m \u001b[34mdplyr\u001b[39m::\u001b[32mlag()\u001b[39m    masks \u001b[34mstats\u001b[39m::lag()\n",
      "\n",
      "\n",
      "Please cite as: \n",
      "\n",
      "\n",
      " Hlavac, Marek (2022). stargazer: Well-Formatted Regression and Summary Statistics Tables.\n",
      "\n",
      " R package version 5.2.3. https://CRAN.R-project.org/package=stargazer \n",
      "\n",
      "\n"
     ]
    }
   ],
   "source": [
    "library(tidyverse)\n",
    "library(stargazer)\n",
    "library(ivreg)"
   ]
  },
  {
   "cell_type": "markdown",
   "metadata": {},
   "source": [
    "In the original paper we analyze the data at the individual level. Our ITT analysis implements a two-way fixed effects estimator with standard errors clustered at the ZIP Code level. Our IV analysis uses the randomization protocol as an instrument for the treatment ultimately assigned.\n",
    "\n",
    "To adapt our analyses using the aggregate panel data we no longer cluster our standard errors since observations are aggregated to the ZIP Code level anyway. The ITT analyses remain very similar. The IV analysis uses the ZIP Code randomization as an instrument for the percentage of individuals assigned to the treatment. In addition, since there is quite a bit of variance in how many observations are recorded in each week, we weight observations by the number of participants."
   ]
  },
  {
   "cell_type": "code",
   "execution_count": 7,
   "metadata": {},
   "outputs": [
    {
     "name": "stderr",
     "output_type": "stream",
     "text": [
      "\u001b[1mRows: \u001b[22m\u001b[34m231\u001b[39m \u001b[1mColumns: \u001b[22m\u001b[34m31\u001b[39m\n",
      "\u001b[36m──\u001b[39m \u001b[1mColumn specification\u001b[22m \u001b[36m────────────────────────────────────────────────────────\u001b[39m\n",
      "\u001b[1mDelimiter:\u001b[22m \",\"\n",
      "\u001b[31mchr\u001b[39m   (2): svi_label, condition\n",
      "\u001b[32mdbl\u001b[39m  (28): Zip, crossover, n_assigned_automated, n_assigned_manual, mean_per...\n",
      "\u001b[34mdate\u001b[39m  (1): week\n",
      "\n",
      "\u001b[36mℹ\u001b[39m Use `spec()` to retrieve the full column specification for this data.\n",
      "\u001b[36mℹ\u001b[39m Specify the column types or set `show_col_types = FALSE` to quiet this message.\n"
     ]
    }
   ],
   "source": [
    "panel_data <- read_csv('./panel_data.csv') %>%\n",
    "    mutate(\n",
    "        svi_label = svi_label %>%  as.factor() %>% relevel(ref = '[50,80) SVI'),\n",
    "        condition = condition %>% as.factor() %>% relevel(ref = 'Manual CICT'),\n",
    "        n_cases = n_assigned_automated + n_assigned_manual,\n",
    "        # Use randomization as an instrument for the % of those actually assigned CICT\n",
    "        perc_assigned_automated = n_assigned_automated / n_cases,\n",
    "        # Weighted average of the two completion rates (manual and automated)\n",
    "        overall_completion_rate = (mean_perc_filled_assigned_automated * n_assigned_automated + mean_perc_filled_assigned_manual * n_assigned_manual) / (n_assigned_automated + n_assigned_manual)) %>%\n",
    "    select(week, crossover, svi_label, Zip, condition, n_cases, perc_assigned_automated, overall_completion_rate)"
   ]
  },
  {
   "cell_type": "code",
   "execution_count": 9,
   "metadata": {},
   "outputs": [
    {
     "name": "stdout",
     "output_type": "stream",
     "text": [
      "\n",
      "====================================================================\n",
      "                                        Dependent variable:         \n",
      "                               -------------------------------------\n",
      "                                       Percent Fields Known         \n",
      "                                         OLS            instrumental\n",
      "                                                          variable  \n",
      "                                         (1)                (2)     \n",
      "--------------------------------------------------------------------\n",
      "Randomized to Automated               -0.018***                     \n",
      "                                       (0.006)                      \n",
      "                                                                    \n",
      "Assigned to Automated                                    -0.255***  \n",
      "                                                          (0.068)   \n",
      "                                                                    \n",
      "High SVI                                0.001              -0.002   \n",
      "                                       (0.014)            (0.012)   \n",
      "                                                                    \n",
      "--------------------------------------------------------------------\n",
      "Observations                             193                193     \n",
      "R2                                      0.891              0.920    \n",
      "Adjusted R2                             0.866              0.902    \n",
      "Residual Std. Error (df = 156)          0.438              0.376    \n",
      "F Statistic                    35.561*** (df = 36; 156)             \n",
      "====================================================================\n",
      "Note:                                    *p<0.1; **p<0.05; ***p<0.01\n"
     ]
    }
   ],
   "source": [
    "itt.md <- lm(\n",
    "    overall_completion_rate ~ condition + svi_label + as.factor(week) + as.factor(Zip),\n",
    "    weights = n_cases,\n",
    "    data = panel_data)\n",
    "\n",
    "iv_reg.md <- ivreg(\n",
    "    overall_completion_rate ~ perc_assigned_automated + svi_label + as.factor(week) + as.factor(Zip) | . - perc_assigned_automated + condition,\n",
    "    weights = n_cases,\n",
    "    data = panel_data)\n",
    "\n",
    "stargazer(\n",
    "    itt.md,\n",
    "    iv_reg.md,\n",
    "    keep = c(\"condition\",\"perc_assigned_automated\",\"svi_label\"),\n",
    "    order = c(\"condition\",\"perc_assigned_automated\",\"svi_label\"),\n",
    "    covariate.labels = c('Randomized to Automated','Assigned to Automated','High SVI'),\n",
    "    dep.var.labels = c(\"Percent Fields Known\"),\n",
    "    align = TRUE,\n",
    "    type = \"text\")"
   ]
  },
  {
   "cell_type": "code",
   "execution_count": null,
   "metadata": {},
   "outputs": [],
   "source": []
  }
 ],
 "metadata": {
  "kernelspec": {
   "display_name": "R",
   "language": "R",
   "name": "ir"
  },
  "language_info": {
   "codemirror_mode": "r",
   "file_extension": ".r",
   "mimetype": "text/x-r-source",
   "name": "R",
   "pygments_lexer": "r",
   "version": "3.6.2"
  }
 },
 "nbformat": 4,
 "nbformat_minor": 4
}
